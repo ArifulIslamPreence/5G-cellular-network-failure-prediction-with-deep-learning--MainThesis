{
 "cells": [
  {
   "cell_type": "code",
   "execution_count": 1,
   "metadata": {},
   "outputs": [],
   "source": [
    "# %load combined.py\n",
    "'''\n",
    "combination of rl-kpis(radio) and met-real(weather station) dataset according to the minimum\n",
    "distance between them.\n",
    "'''\n",
    "\n",
    "import pandas as pd\n",
    "import numpy as np\n",
    "import csv\n",
    "\n",
    "f = open('../input_dataset/siteVws.csv', 'r')\n",
    "x_dict = dict()\n",
    "for line in f:\n",
    "    line = line.strip('\\n').split(',')\n",
    "    keys = line[1:]\n",
    "    x_dict[keys[0]] = keys[1]\n",
    "\n",
    "p = open('../input_dataset/rl-kpis_mod.csv', 'r')\n",
    "q = open('../output_dataset/combined_day1.csv', 'a')  \n",
    "\n",
    "header = 'Column1,type,datetime,tip,mlid,mw_connection_no,site_id,neid,direction,polarization,card_type,' \\\n",
    "         'adaptive_modulation,freq_band,link_length,severaly_error_second,error_second,unavail_second,avail_time,bbe,' \\\n",
    "         'rxlevmax,scalibility_score,capacity,modulation,rlf,forecast_datetime, Column1,station_no,datetime_ws,' \\\n",
    "         'weather_day1,' \\\n",
    "         'temp_max_day1,temp_min_day1,humidity_max_day1,humidity_min_day1,wind_dir_day1,wind_speed_day1'\n",
    "\n",
    "q.write(header)\n",
    "first_line = p.readline()\n",
    "\n",
    "for line in p:\n",
    "    line = line.strip('\\n').split(',')\n",
    "    keys = line[1:]\n",
    "    site_id = keys[5]\n",
    "    dateTime_r = keys[23]\n",
    "    station_id = x_dict[site_id]\n",
    "    a = open(r'../input_dataset/met-forecast_day1.csv', 'r')\n",
    "    lineStr = ','.join([str(elem) for elem in line])\n",
    "    first_line = a.readline()\n",
    "\n",
    "    for line1 in a:\n",
    "        line1 = line1.strip('\\n').split(',')\n",
    "        item = line1[1]\n",
    "        dateTime_s = line1[2]\n",
    "        # print (item, station_id)\n",
    "\n",
    "        if station_id == item and dateTime_s == dateTime_r:\n",
    "            line1Str = ','.join([str(elem) for elem in line1])  # station_id being added separately in different line\n",
    "            newline = lineStr + ',' + line1Str + '\\n'\n",
    "            q.write(newline)\n"
   ]
  },
  {
   "cell_type": "code",
   "execution_count": null,
   "metadata": {},
   "outputs": [],
   "source": []
  }
 ],
 "metadata": {
  "kernelspec": {
   "display_name": "Python 3",
   "language": "python",
   "name": "python3"
  },
  "language_info": {
   "codemirror_mode": {
    "name": "ipython",
    "version": 3
   },
   "file_extension": ".py",
   "mimetype": "text/x-python",
   "name": "python",
   "nbconvert_exporter": "python",
   "pygments_lexer": "ipython3",
   "version": "3.8.3"
  }
 },
 "nbformat": 4,
 "nbformat_minor": 4
}
